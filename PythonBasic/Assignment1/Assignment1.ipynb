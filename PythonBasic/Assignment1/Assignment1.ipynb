{
 "cells": [
  {
   "cell_type": "markdown",
   "metadata": {},
   "source": [
    "# 1. What are the differences between Operaztors and values in the follwing"
   ]
  },
  {
   "cell_type": "code",
   "execution_count": 2,
   "metadata": {},
   "outputs": [
    {
     "name": "stdout",
     "output_type": "stream",
     "text": [
      "16\n"
     ]
    }
   ],
   "source": [
    "# *  - Multiplication operator\n",
    "\n",
    "s = 4*4 \n",
    "print(s) #16"
   ]
  },
  {
   "cell_type": "code",
   "execution_count": 19,
   "metadata": {},
   "outputs": [
    {
     "name": "stdout",
     "output_type": "stream",
     "text": [
      "hello\n",
      "<class 'str'>\n"
     ]
    }
   ],
   "source": [
    "# 'hello' string value\n",
    "\n",
    "s='hello'\n",
    "print(s) #hello\n",
    "print(type(s)) #<class 'str'>"
   ]
  },
  {
   "cell_type": "code",
   "execution_count": 14,
   "metadata": {},
   "outputs": [
    {
     "name": "stdout",
     "output_type": "stream",
     "text": [
      "-7.799999999999997\n",
      "<class 'float'>\n"
     ]
    }
   ],
   "source": [
    "# -87.8 negative number of type float\n",
    "\n",
    "a=-87.8\n",
    "a=-87.8+80\n",
    "print(a) #-7.799999999999997\n",
    "print(type(a)) #<class 'float'>"
   ]
  },
  {
   "cell_type": "code",
   "execution_count": 15,
   "metadata": {},
   "outputs": [
    {
     "name": "stdout",
     "output_type": "stream",
     "text": [
      "4\n"
     ]
    }
   ],
   "source": [
    "# - minus operator\n",
    "\n",
    "a=8-4\n",
    "\n",
    "print(a) #4\n"
   ]
  },
  {
   "cell_type": "code",
   "execution_count": 17,
   "metadata": {},
   "outputs": [
    {
     "name": "stdout",
     "output_type": "stream",
     "text": [
      "2.0\n"
     ]
    }
   ],
   "source": [
    "# / divide opertaor gives Quotient\n",
    "\n",
    "a=8/4\n",
    "\n",
    "print(a) #2.0"
   ]
  },
  {
   "cell_type": "code",
   "execution_count": 18,
   "metadata": {},
   "outputs": [
    {
     "name": "stdout",
     "output_type": "stream",
     "text": [
      "12\n"
     ]
    }
   ],
   "source": [
    "# + addition operator\n",
    "\n",
    "a=8+4\n",
    "print(a) #12"
   ]
  },
  {
   "cell_type": "code",
   "execution_count": 20,
   "metadata": {},
   "outputs": [
    {
     "data": {
      "text/plain": [
       "int"
      ]
     },
     "execution_count": 20,
     "metadata": {},
     "output_type": "execute_result"
    }
   ],
   "source": [
    "# 6 - value of type int\n",
    "\n",
    "a=6\n",
    "type(6) #int"
   ]
  },
  {
   "cell_type": "markdown",
   "metadata": {},
   "source": [
    "# 2. What is the difference between string and variable"
   ]
  },
  {
   "cell_type": "code",
   "execution_count": 21,
   "metadata": {},
   "outputs": [],
   "source": [
    "# 'spam' - text \n",
    "# spam - name that can refer a value \n",
    "\n",
    "spam1 = 'spam'\n",
    "\n",
    "#spam1 is variable\n",
    "#'spam'is text value assigned to variable spam1\n",
    "\n",
    "#varibale do not need to be declared with any types in advance.\n",
    "#string needs to be enclosed in single or double qoutes"
   ]
  },
  {
   "cell_type": "markdown",
   "metadata": {},
   "source": [
    "# 3. Describe three different data forms/types."
   ]
  },
  {
   "cell_type": "code",
   "execution_count": 24,
   "metadata": {},
   "outputs": [
    {
     "name": "stdout",
     "output_type": "stream",
     "text": [
      "<class 'str'>\n",
      "<class 'int'>\n",
      "<class 'float'>\n",
      "<class 'complex'>\n",
      "<class 'bool'>\n"
     ]
    }
   ],
   "source": [
    "#Text\n",
    "#Numerica\n",
    "#Boolean\n",
    "\n",
    "#TEXT IS STRING\n",
    "a=\"HELLO\" \n",
    "print(type(a)) #<class 'str'>\n",
    "\n",
    "#Numeric - number (int , float, complex)\n",
    "a=4\n",
    "b=4.00\n",
    "c=3+4j\n",
    "\n",
    "print(type(a)) #<class 'int'>\n",
    "print(type(b)) #<class 'float'>\n",
    "print(type(c)) #<class 'complex'>\n",
    "\n",
    "\n",
    "#Boolean\n",
    "a=False # or can be True\n",
    "\n",
    "print(type(a)) #<class 'bool'>"
   ]
  },
  {
   "cell_type": "markdown",
   "metadata": {},
   "source": [
    "# 4.What makes up an expression? What are the functions of all expressions"
   ]
  },
  {
   "cell_type": "code",
   "execution_count": 28,
   "metadata": {},
   "outputs": [
    {
     "name": "stdout",
     "output_type": "stream",
     "text": [
      "36\n"
     ]
    }
   ],
   "source": [
    "#Expression is a combination of varibales, Operations and values that yeild a result value\n",
    "\n",
    "#5*5 or (5*5)<(36) #expression\n",
    "\n",
    "print(6*6) # Entire line is a statement where 6*6 that yeilds a value of 36 is an expression \n",
    "#Expressions are often part of a statement\n"
   ]
  },
  {
   "cell_type": "markdown",
   "metadata": {},
   "source": [
    "# 5. In this chapter, assignment statements such as spam = 10 were added. What's the difference between a declaration and an expression?\n"
   ]
  },
  {
   "cell_type": "code",
   "execution_count": 29,
   "metadata": {},
   "outputs": [],
   "source": [
    "spam = 10  #statement or declaration where as 10 is an expression\n",
    "\n",
    "#we are creating a variable spam and declaring value 10 in it. \n",
    "#10 is the expression that is declared and assigned to variable."
   ]
  },
  {
   "cell_type": "markdown",
   "metadata": {},
   "source": [
    "# 6. After running the following code, what does the variable bacon contain?\n",
    "bacon = 22\n",
    "bacon + 1\n"
   ]
  },
  {
   "cell_type": "code",
   "execution_count": 35,
   "metadata": {},
   "outputs": [
    {
     "name": "stdout",
     "output_type": "stream",
     "text": [
      "22\n",
      "23\n"
     ]
    }
   ],
   "source": [
    "bacon = 22\n",
    "bacon + 1 \n",
    "# 22+1 but it is not assigned back to varibale. so the variable bacon holds value 22. \n",
    "print(bacon) # 22\n",
    "\n",
    "#incase\n",
    "bacon=bacon+1\n",
    "print(bacon) #23"
   ]
  },
  {
   "cell_type": "markdown",
   "metadata": {},
   "source": [
    "# 7. What should the values of the following two terms be?\n",
    "\n",
    "'spam' + 'spamspam'\n",
    "'spam' * 3\n"
   ]
  },
  {
   "cell_type": "code",
   "execution_count": 40,
   "metadata": {},
   "outputs": [
    {
     "name": "stdout",
     "output_type": "stream",
     "text": [
      "spamspamspam\n",
      "spamspamspam\n"
     ]
    }
   ],
   "source": [
    "a=\"spam\" + \"spamspam\"\n",
    "print(a) #spamspamspam\n",
    "\n",
    "b=\"spam\"*3\n",
    "print(b) #spamspamspam"
   ]
  },
  {
   "cell_type": "markdown",
   "metadata": {},
   "source": [
    "# 8. Why is it that eggs is a true variable name but 100 is not?"
   ]
  },
  {
   "cell_type": "code",
   "execution_count": 44,
   "metadata": {},
   "outputs": [
    {
     "ename": "SyntaxError",
     "evalue": "invalid syntax (<ipython-input-44-ceccdeab26b0>, line 6)",
     "output_type": "error",
     "traceback": [
      "\u001b[0;36m  File \u001b[0;32m\"<ipython-input-44-ceccdeab26b0>\"\u001b[0;36m, line \u001b[0;32m6\u001b[0m\n\u001b[0;31m    1abc=2\u001b[0m\n\u001b[0m     ^\u001b[0m\n\u001b[0;31mSyntaxError\u001b[0m\u001b[0;31m:\u001b[0m invalid syntax\n"
     ]
    }
   ],
   "source": [
    "#variable name cannot start with number\n",
    "#variable name should start with a letter or a underscore.\n",
    "\n",
    "egg = 2 #no issues\n",
    "\n",
    "100=2 #SyntaxError\n",
    "1abc=2 #SyntaxError"
   ]
  },
  {
   "cell_type": "markdown",
   "metadata": {},
   "source": [
    "# 9. Which of the following three functions may be used to convert a value to an integer, a floating-point number, or a string?"
   ]
  },
  {
   "cell_type": "code",
   "execution_count": 50,
   "metadata": {},
   "outputs": [],
   "source": [
    "#int(), float(),str()\n",
    "\n",
    "x=int('1') # x is 1\n",
    "y=float(2) #y is 2.0\n",
    "z=str(1)  #z is '1'\n"
   ]
  },
  {
   "cell_type": "markdown",
   "metadata": {},
   "source": [
    "# 10. What is the error caused by this expression? What would you do about it?\n",
    "\n",
    "'I have eaten ' + 99 + ' burritos.'\n"
   ]
  },
  {
   "cell_type": "code",
   "execution_count": 58,
   "metadata": {},
   "outputs": [
    {
     "name": "stdout",
     "output_type": "stream",
     "text": [
      "I have eaten 99 burritos.\n"
     ]
    }
   ],
   "source": [
    "#a= 'I have eaten ' + 99 + ' burritos.' # now 99 is int so we cant concatenate it with a string \n",
    "\n",
    "#so we have to typecast int to str and then concatenate\n",
    "\n",
    "a = 'I have eaten ' + str(99)+ ' burritos.'\n",
    "\n",
    "print(a) #'I have eaten 99 burritos.'"
   ]
  },
  {
   "cell_type": "code",
   "execution_count": null,
   "metadata": {},
   "outputs": [],
   "source": []
  }
 ],
 "metadata": {
  "kernelspec": {
   "display_name": "Python 3",
   "language": "python",
   "name": "python3"
  },
  "language_info": {
   "codemirror_mode": {
    "name": "ipython",
    "version": 3
   },
   "file_extension": ".py",
   "mimetype": "text/x-python",
   "name": "python",
   "nbconvert_exporter": "python",
   "pygments_lexer": "ipython3",
   "version": "3.8.3"
  }
 },
 "nbformat": 4,
 "nbformat_minor": 4
}
